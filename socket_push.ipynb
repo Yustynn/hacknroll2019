{
 "cells": [
  {
   "cell_type": "code",
   "execution_count": 4,
   "metadata": {},
   "outputs": [],
   "source": [
    "import time\n",
    "from time import sleep\n",
    "from threading import Timer\n",
    "import socketio"
   ]
  },
  {
   "cell_type": "code",
   "execution_count": 16,
   "metadata": {},
   "outputs": [
    {
     "name": "stdout",
     "output_type": "stream",
     "text": [
      "I'm connected!\n"
     ]
    }
   ],
   "source": [
    "sio = socketio.Client()\n",
    "@sio.on('connect')\n",
    "def on_connect():\n",
    "    print(\"I'm connected!\")\n",
    "\n",
    "@sio.on('message')\n",
    "def on_message(data):\n",
    "    print('I received a message!')\n",
    "\n",
    "@sio.on('my message')\n",
    "def on_message(data):\n",
    "    print('I received a custom message!')\n",
    "\n",
    "@sio.on('disconnect')\n",
    "def on_disconnect():\n",
    "    print(\"I'm disconnected!\")\n",
    "    \n",
    "sio.connect('http://localhost:8080')"
   ]
  },
  {
   "cell_type": "code",
   "execution_count": 28,
   "metadata": {},
   "outputs": [
    {
     "name": "stdout",
     "output_type": "stream",
     "text": [
      "I received a message!\n",
      "I received a message!\n",
      "I received a message!\n"
     ]
    }
   ],
   "source": [
    "sio.emit('message', {\n",
    "            'Radagast':{\n",
    "                \"move\":(0.707, 0.707),\n",
    "                \"spells\":{\"dragonstrike\":True}\n",
    "                },\n",
    "            'Gandalf':{\n",
    "                \"move\":(-0.707, 0.707),\n",
    "                \"spells\":{\"guardian\":True}\n",
    "                },\n",
    "            'Saruman':{\n",
    "                \"move\":(1, -1),\n",
    "                \"spells\":{\"ice_tornado\":True}\n",
    "                },\n",
    "            }\n",
    "        )"
   ]
  },
  {
   "cell_type": "code",
   "execution_count": 26,
   "metadata": {},
   "outputs": [
    {
     "name": "stdout",
     "output_type": "stream",
     "text": [
      "I received a message!I received a message!\n",
      "\n",
      "I received a message!\n"
     ]
    }
   ],
   "source": [
    "sio.emit('message', {\n",
    "            'Radagast':{\n",
    "                \"move\":(0.707, 0.707),\n",
    "                \"spells\":{\"join\":True}\n",
    "                },\n",
    "            'Gandalf':{\n",
    "                \"move\":(-0.707, 0.707),\n",
    "                \"spells\":{\"join\":True}\n",
    "                },\n",
    "            'Saruman':{\n",
    "                \"move\":(1, -1),\n",
    "                \"spells\":{\"join\":True}\n",
    "                },\n",
    "            }\n",
    "        )"
   ]
  },
  {
   "cell_type": "code",
   "execution_count": null,
   "metadata": {},
   "outputs": [],
   "source": []
  }
 ],
 "metadata": {
  "kernelspec": {
   "display_name": "Python 3",
   "language": "python",
   "name": "python3"
  },
  "language_info": {
   "codemirror_mode": {
    "name": "ipython",
    "version": 3
   },
   "file_extension": ".py",
   "mimetype": "text/x-python",
   "name": "python",
   "nbconvert_exporter": "python",
   "pygments_lexer": "ipython3",
   "version": "3.6.7"
  }
 },
 "nbformat": 4,
 "nbformat_minor": 2
}
