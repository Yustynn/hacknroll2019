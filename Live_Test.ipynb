{
 "cells": [
  {
   "cell_type": "code",
   "execution_count": 1,
   "metadata": {},
   "outputs": [],
   "source": [
    "from controller import Controller\n",
    "import time\n",
    "from time import sleep\n",
    "from threading import Timer\n",
    "\n",
    "class MagickaController:\n",
    "    def __init__(self, name):\n",
    "        # We use self.firing as a semaphore; if some other spell is casting, you cannt cast spells\n",
    "        self.Controller = Controller(name)\n",
    "        self.firing = False\n",
    "\n",
    "    def joinGame(self):\n",
    "        sleep(2)\n",
    "        name = self.Controller.name\n",
    "        print(f\"{name} joining game\")\n",
    "        self.Controller.btnin(\"A\")\n",
    "        sleep(0.1)\n",
    "        self.Controller.btnout(\"A\")\n",
    "\n",
    "    def elementSequence(self, sequence):\n",
    "        \"\"\"Casts an element of sequence\"\"\"\n",
    "        for element in sequence:\n",
    "            self.Controller.btnin(element)\n",
    "            sleep(0.1)\n",
    "            self.Controller.btnout(element)\n",
    "            sleep(0.1)\n",
    "\n",
    "\n",
    "    def fire(self, direction, duration):\n",
    "        print(\"Gandalf Charging....\")\n",
    "        self.firing = True\n",
    "        # start_time = time.time()\n",
    "        # while time.time() - start_time < duration:\n",
    "        self.Controller.joystick(direction, \"right\")\n",
    "        time.sleep(2)\n",
    "        self.firing = False\n",
    "        self.Controller.joystick(\"stop\", \"right\")\n",
    "        print(\"Gandalf UNLEASH\")\n",
    "\n",
    "    def fireball(self, direction, duration=2.0):\n",
    "        sequence = [\"A\", \"A\", \"A\", \"B\", \"B\"]\n",
    "        self.elementSequence(sequence)\n",
    "        self.fire(direction, duration)\n",
    "\n",
    "    def lightninglaser(self, direction, duration=2.0):\n",
    "        print(\"Gandalf building Water\")\n",
    "        self.Controller.tabin(\"left\")\n",
    "        sequence = [\"X\", \"X\"]\n",
    "        self.elementSequence(sequence)\n",
    "        self.Controller.tabout(\"left\")\n",
    "        print(\"Gandalf building Fire Lightning Arcane\")\n",
    "        sequence = [\"A\", \"A\", \"X\", \"Y\"]\n",
    "        time.sleep(0.1)\n",
    "        self.elementSequence(sequence)\n",
    "        self.fire(direction, duration)\n",
    "\n",
    "    def move(self, direction):\n",
    "        self.Controller.joystick(direction, \"left\")\n"
   ]
  },
  {
   "cell_type": "code",
   "execution_count": 6,
   "metadata": {},
   "outputs": [],
   "source": [
    "magickaController = MagickaController(\"Gandalf\")\n"
   ]
  },
  {
   "cell_type": "code",
   "execution_count": 7,
   "metadata": {},
   "outputs": [
    {
     "name": "stdout",
     "output_type": "stream",
     "text": [
      "Gandalf joining game\n"
     ]
    }
   ],
   "source": [
    "magickaController.joinGame()\n",
    "# magickaController.fireball((1,1)"
   ]
  },
  {
   "cell_type": "code",
   "execution_count": 9,
   "metadata": {},
   "outputs": [
    {
     "name": "stdout",
     "output_type": "stream",
     "text": [
      "Gandalf building Water\n",
      "Gandalf building Fire Lightning Arcane\n",
      "Gandalf Charging....\n",
      "Gandalf UNLEASH\n"
     ]
    }
   ],
   "source": [
    "magickaController.lightninglaser(\"upright\")"
   ]
  },
  {
   "cell_type": "code",
   "execution_count": 10,
   "metadata": {},
   "outputs": [],
   "source": [
    "movements = [\"up\", \"down\", \"left\", \"right\", \"upleft\", \"upright\", \"downleft\", \"downright\", \"stop\"]\n",
    "time.sleep(0.5)\n",
    "for movement in movements:\n",
    "    magickaController.move(movement)\n",
    "    time.sleep(0.5)"
   ]
  },
  {
   "cell_type": "code",
   "execution_count": null,
   "metadata": {},
   "outputs": [],
   "source": []
  }
 ],
 "metadata": {
  "kernelspec": {
   "display_name": "Python 3",
   "language": "python",
   "name": "python3"
  },
  "language_info": {
   "codemirror_mode": {
    "name": "ipython",
    "version": 3
   },
   "file_extension": ".py",
   "mimetype": "text/x-python",
   "name": "python",
   "nbconvert_exporter": "python",
   "pygments_lexer": "ipython3",
   "version": "3.6.7"
  }
 },
 "nbformat": 4,
 "nbformat_minor": 2
}
